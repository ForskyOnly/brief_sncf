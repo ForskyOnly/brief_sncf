{
 "cells": [
  {
   "cell_type": "code",
   "execution_count": 3,
   "metadata": {},
   "outputs": [],
   "source": [
    "import pandas as pd\n",
    "from datetime import datetime\n",
    "import sqlite3\n"
   ]
  },
  {
   "cell_type": "code",
   "execution_count": 4,
   "metadata": {},
   "outputs": [],
   "source": [
    "df_objet_trouve = pd.read_csv(\"objet_perdus.csv\")\n",
    "df_gare = pd.read_csv(\"frequentations_gare.csv\")\n",
    "df_meteo = pd.read_csv(\"donneemeteo.csv\")"
   ]
  },
  {
   "cell_type": "code",
   "execution_count": 5,
   "metadata": {},
   "outputs": [],
   "source": [
    "connexion = sqlite3.connect(\"bddtest.db\")\n",
    "connexion.execute(\"\"\"\n",
    "CREATE TABLE IF NOT EXISTS gare (\n",
    "    id_gare INTEGER PRIMARY KEY AUTOINCREMENT,\n",
    "    nom_gare TEXT NOT NULL,\n",
    "    code_postal INTEGER,\n",
    "    frequentation_2019 INTEGER,\n",
    "    frequentation_2020 INTEGER,\n",
    "    frequentation_2021 INTEGER,\n",
    "    frequentation_2022 INTEGER\n",
    ")\n",
    "\"\"\")\n",
    "\n",
    "connexion.execute(\"\"\"\n",
    "CREATE TABLE IF NOT EXISTS objet_trouve (\n",
    "    id_objet INTEGER PRIMARY KEY AUTOINCREMENT,\n",
    "    nom_gare TEXT NOT NULL,\n",
    "    type_objet TEXT NOT NULL,\n",
    "    nature_objet TEXT NOT NULL,\n",
    "    date TEXT NOT NULL,\n",
    "    FOREIGN KEY (nom_gare) REFERENCES gare(nom_gare)\n",
    "\n",
    ")\n",
    "\"\"\")\n",
    "\n",
    "connexion.execute(\"\"\"\n",
    "CREATE TABLE IF NOT EXISTS meteo (\n",
    "    id_meteo INTEGER PRIMARY KEY AUTOINCREMENT,\n",
    "    time TEXT NOT NULL,\n",
    "    temperature REAL NOT NULL\n",
    ")\n",
    "\"\"\")\n",
    "\n",
    "for index, row in df_gare.iterrows():\n",
    "    connexion.execute(\n",
    "        \"INSERT INTO gare (nom_gare, code_postal, frequentation_2019, frequentation_2020, frequentation_2021, frequentation_2022) VALUES (?, ?, ?, ?, ?, ?)\",\n",
    "        (row[\"nom_gare\"], row[\"code_postal\"], row[\"frequentation_2019\"], row[\"frequentation_2020\"], row[\"frequentation_2021\"], row[\"frequentation_2022\"])\n",
    "    )\n",
    "\n",
    "for index, row in df_objet_trouve.iterrows():\n",
    "    connexion.execute(\n",
    "        \"INSERT INTO objet_trouve (nom_gare, type_objet, nature_objet, date) VALUES (?, ?, ?, ?)\",\n",
    "        (row[\"Nom gare\"], row[\"Type d'objet\"], row[\"Nature de l'objet\"], row[\"Date\"])\n",
    "    )\n",
    "\n",
    "for index, row in df_meteo.iterrows():\n",
    "    connexion.execute(\n",
    "        \"INSERT INTO meteo (time, temperature) VALUES (?, ?)\",\n",
    "        (row[\"time\"], row[\"temperature\"])\n",
    "    )\n",
    "    \n",
    "connexion.commit()\n",
    "connexion.close()"
   ]
  }
 ],
 "metadata": {
  "kernelspec": {
   "display_name": "machinlearn",
   "language": "python",
   "name": "python3"
  },
  "language_info": {
   "codemirror_mode": {
    "name": "ipython",
    "version": 3
   },
   "file_extension": ".py",
   "mimetype": "text/x-python",
   "name": "python",
   "nbconvert_exporter": "python",
   "pygments_lexer": "ipython3",
   "version": "3.10.9"
  },
  "orig_nbformat": 4
 },
 "nbformat": 4,
 "nbformat_minor": 2
}
