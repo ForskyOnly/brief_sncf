{
 "cells": [
  {
   "cell_type": "code",
   "execution_count": 1,
   "metadata": {},
   "outputs": [],
   "source": [
    "import requests\n",
    "import pandas as pd"
   ]
  },
  {
   "attachments": {},
   "cell_type": "markdown",
   "metadata": {},
   "source": [
    "### Requete et reccupération des données de fréquentation de gare\n"
   ]
  },
  {
   "cell_type": "code",
   "execution_count": 2,
   "metadata": {},
   "outputs": [
    {
     "name": "stdout",
     "output_type": "stream",
     "text": [
      "200\n",
      "200\n",
      "200\n",
      "200\n",
      "200\n",
      "200\n",
      "200\n",
      "200\n"
     ]
    }
   ],
   "source": [
    "url = \"https://ressources.data.sncf.com/api/records/1.0/search/?dataset=frequentation-gares&q=paris&sort=nom_gare&facet=nom_gare&facet=code_postal&facet=segmentation_drg\"\n",
    "response = requests.get(url)\n",
    "data = response.json()\n",
    "\n",
    "gares = []\n",
    "\n",
    "for record in data[\"records\"]:\n",
    "    gare_info = {\n",
    "        \"nom_gare\": record[\"fields\"][\"nom_gare\"],\n",
    "        \"code_postal\": record[\"fields\"][\"code_postal\"],\n",
    "        \"frequentation_2019\": record[\"fields\"][\"total_voyageurs_2019\"],\n",
    "        \"frequentation_2020\": record[\"fields\"][\"total_voyageurs_2020\"],\n",
    "        \"frequentation_2021\": record[\"fields\"][\"total_voyageurs_2021\"],\n",
    "    }\n",
    "    gares.append(gare_info)\n",
    "\n",
    "\n",
    "    print(response.status_code)"
   ]
  },
  {
   "attachments": {},
   "cell_type": "markdown",
   "metadata": {},
   "source": [
    "### de la DataFrame"
   ]
  },
  {
   "cell_type": "code",
   "execution_count": 3,
   "metadata": {},
   "outputs": [],
   "source": [
    "df_freq_gare = pd.DataFrame(gares)"
   ]
  },
  {
   "cell_type": "code",
   "execution_count": 4,
   "metadata": {},
   "outputs": [
    {
     "data": {
      "text/html": [
       "<div>\n",
       "<style scoped>\n",
       "    .dataframe tbody tr th:only-of-type {\n",
       "        vertical-align: middle;\n",
       "    }\n",
       "\n",
       "    .dataframe tbody tr th {\n",
       "        vertical-align: top;\n",
       "    }\n",
       "\n",
       "    .dataframe thead th {\n",
       "        text-align: right;\n",
       "    }\n",
       "</style>\n",
       "<table border=\"1\" class=\"dataframe\">\n",
       "  <thead>\n",
       "    <tr style=\"text-align: right;\">\n",
       "      <th></th>\n",
       "      <th>nom_gare</th>\n",
       "      <th>code_postal</th>\n",
       "      <th>frequentation_2019</th>\n",
       "      <th>frequentation_2020</th>\n",
       "      <th>frequentation_2021</th>\n",
       "    </tr>\n",
       "  </thead>\n",
       "  <tbody>\n",
       "    <tr>\n",
       "      <th>0</th>\n",
       "      <td>Cormeilles-en-Parisis</td>\n",
       "      <td>95240</td>\n",
       "      <td>3683266</td>\n",
       "      <td>1878474</td>\n",
       "      <td>3317416</td>\n",
       "    </tr>\n",
       "    <tr>\n",
       "      <th>1</th>\n",
       "      <td>Paris Austerlitz</td>\n",
       "      <td>75013</td>\n",
       "      <td>21682820</td>\n",
       "      <td>13203603</td>\n",
       "      <td>22281301</td>\n",
       "    </tr>\n",
       "    <tr>\n",
       "      <th>2</th>\n",
       "      <td>Paris Bercy Bourgogne - Pays d'Auvergne</td>\n",
       "      <td>75012</td>\n",
       "      <td>4318464</td>\n",
       "      <td>2498330</td>\n",
       "      <td>3347763</td>\n",
       "    </tr>\n",
       "    <tr>\n",
       "      <th>3</th>\n",
       "      <td>Paris Est</td>\n",
       "      <td>75010</td>\n",
       "      <td>41240098</td>\n",
       "      <td>21580625</td>\n",
       "      <td>27758686</td>\n",
       "    </tr>\n",
       "    <tr>\n",
       "      <th>4</th>\n",
       "      <td>Paris Gare de Lyon</td>\n",
       "      <td>75012</td>\n",
       "      <td>112644337</td>\n",
       "      <td>55824824</td>\n",
       "      <td>79986275</td>\n",
       "    </tr>\n",
       "    <tr>\n",
       "      <th>5</th>\n",
       "      <td>Paris Gare du Nord</td>\n",
       "      <td>75010</td>\n",
       "      <td>244759909</td>\n",
       "      <td>92236287</td>\n",
       "      <td>126622180</td>\n",
       "    </tr>\n",
       "    <tr>\n",
       "      <th>6</th>\n",
       "      <td>Paris Montparnasse</td>\n",
       "      <td>75015</td>\n",
       "      <td>61374035</td>\n",
       "      <td>32439307</td>\n",
       "      <td>41043477</td>\n",
       "    </tr>\n",
       "    <tr>\n",
       "      <th>7</th>\n",
       "      <td>Paris Saint-Lazare</td>\n",
       "      <td>75008</td>\n",
       "      <td>107340421</td>\n",
       "      <td>114468385</td>\n",
       "      <td>91502192</td>\n",
       "    </tr>\n",
       "  </tbody>\n",
       "</table>\n",
       "</div>"
      ],
      "text/plain": [
       "                                  nom_gare code_postal  frequentation_2019  \\\n",
       "0                    Cormeilles-en-Parisis       95240             3683266   \n",
       "1                         Paris Austerlitz       75013            21682820   \n",
       "2  Paris Bercy Bourgogne - Pays d'Auvergne       75012             4318464   \n",
       "3                                Paris Est       75010            41240098   \n",
       "4                       Paris Gare de Lyon       75012           112644337   \n",
       "5                       Paris Gare du Nord       75010           244759909   \n",
       "6                       Paris Montparnasse       75015            61374035   \n",
       "7                       Paris Saint-Lazare       75008           107340421   \n",
       "\n",
       "   frequentation_2020  frequentation_2021  \n",
       "0             1878474             3317416  \n",
       "1            13203603            22281301  \n",
       "2             2498330             3347763  \n",
       "3            21580625            27758686  \n",
       "4            55824824            79986275  \n",
       "5            92236287           126622180  \n",
       "6            32439307            41043477  \n",
       "7           114468385            91502192  "
      ]
     },
     "execution_count": 4,
     "metadata": {},
     "output_type": "execute_result"
    }
   ],
   "source": [
    "df_freq_gare"
   ]
  },
  {
   "attachments": {},
   "cell_type": "markdown",
   "metadata": {},
   "source": [
    "### Suppression de la gare Cormeilles-en-Parisis"
   ]
  },
  {
   "cell_type": "code",
   "execution_count": 5,
   "metadata": {},
   "outputs": [],
   "source": [
    "df_freq_gare = df_freq_gare.drop(0)"
   ]
  },
  {
   "cell_type": "code",
   "execution_count": 6,
   "metadata": {},
   "outputs": [
    {
     "data": {
      "text/html": [
       "<div>\n",
       "<style scoped>\n",
       "    .dataframe tbody tr th:only-of-type {\n",
       "        vertical-align: middle;\n",
       "    }\n",
       "\n",
       "    .dataframe tbody tr th {\n",
       "        vertical-align: top;\n",
       "    }\n",
       "\n",
       "    .dataframe thead th {\n",
       "        text-align: right;\n",
       "    }\n",
       "</style>\n",
       "<table border=\"1\" class=\"dataframe\">\n",
       "  <thead>\n",
       "    <tr style=\"text-align: right;\">\n",
       "      <th></th>\n",
       "      <th>nom_gare</th>\n",
       "      <th>code_postal</th>\n",
       "      <th>frequentation_2019</th>\n",
       "      <th>frequentation_2020</th>\n",
       "      <th>frequentation_2021</th>\n",
       "    </tr>\n",
       "  </thead>\n",
       "  <tbody>\n",
       "    <tr>\n",
       "      <th>1</th>\n",
       "      <td>Paris Austerlitz</td>\n",
       "      <td>75013</td>\n",
       "      <td>21682820</td>\n",
       "      <td>13203603</td>\n",
       "      <td>22281301</td>\n",
       "    </tr>\n",
       "    <tr>\n",
       "      <th>2</th>\n",
       "      <td>Paris Bercy Bourgogne - Pays d'Auvergne</td>\n",
       "      <td>75012</td>\n",
       "      <td>4318464</td>\n",
       "      <td>2498330</td>\n",
       "      <td>3347763</td>\n",
       "    </tr>\n",
       "    <tr>\n",
       "      <th>3</th>\n",
       "      <td>Paris Est</td>\n",
       "      <td>75010</td>\n",
       "      <td>41240098</td>\n",
       "      <td>21580625</td>\n",
       "      <td>27758686</td>\n",
       "    </tr>\n",
       "    <tr>\n",
       "      <th>4</th>\n",
       "      <td>Paris Gare de Lyon</td>\n",
       "      <td>75012</td>\n",
       "      <td>112644337</td>\n",
       "      <td>55824824</td>\n",
       "      <td>79986275</td>\n",
       "    </tr>\n",
       "    <tr>\n",
       "      <th>5</th>\n",
       "      <td>Paris Gare du Nord</td>\n",
       "      <td>75010</td>\n",
       "      <td>244759909</td>\n",
       "      <td>92236287</td>\n",
       "      <td>126622180</td>\n",
       "    </tr>\n",
       "    <tr>\n",
       "      <th>6</th>\n",
       "      <td>Paris Montparnasse</td>\n",
       "      <td>75015</td>\n",
       "      <td>61374035</td>\n",
       "      <td>32439307</td>\n",
       "      <td>41043477</td>\n",
       "    </tr>\n",
       "    <tr>\n",
       "      <th>7</th>\n",
       "      <td>Paris Saint-Lazare</td>\n",
       "      <td>75008</td>\n",
       "      <td>107340421</td>\n",
       "      <td>114468385</td>\n",
       "      <td>91502192</td>\n",
       "    </tr>\n",
       "  </tbody>\n",
       "</table>\n",
       "</div>"
      ],
      "text/plain": [
       "                                  nom_gare code_postal  frequentation_2019  \\\n",
       "1                         Paris Austerlitz       75013            21682820   \n",
       "2  Paris Bercy Bourgogne - Pays d'Auvergne       75012             4318464   \n",
       "3                                Paris Est       75010            41240098   \n",
       "4                       Paris Gare de Lyon       75012           112644337   \n",
       "5                       Paris Gare du Nord       75010           244759909   \n",
       "6                       Paris Montparnasse       75015            61374035   \n",
       "7                       Paris Saint-Lazare       75008           107340421   \n",
       "\n",
       "   frequentation_2020  frequentation_2021  \n",
       "1            13203603            22281301  \n",
       "2             2498330             3347763  \n",
       "3            21580625            27758686  \n",
       "4            55824824            79986275  \n",
       "5            92236287           126622180  \n",
       "6            32439307            41043477  \n",
       "7           114468385            91502192  "
      ]
     },
     "execution_count": 6,
     "metadata": {},
     "output_type": "execute_result"
    }
   ],
   "source": [
    "df_freq_gare"
   ]
  },
  {
   "attachments": {},
   "cell_type": "markdown",
   "metadata": {},
   "source": [
    "### Creation d'une nouvelle colonne \"frequantation_2022\" qui prends la moyenne des 3 année précedante"
   ]
  },
  {
   "cell_type": "code",
   "execution_count": 7,
   "metadata": {},
   "outputs": [],
   "source": [
    "df_freq_gare = df_freq_gare.assign(\n",
    "    frequentation_2022=(df_freq_gare[\"frequentation_2019\"] + df_freq_gare[\"frequentation_2020\"] + df_freq_gare[\"frequentation_2021\"]) / 3\n",
    ")"
   ]
  },
  {
   "attachments": {},
   "cell_type": "markdown",
   "metadata": {},
   "source": [
    "### Transformation de cette nouvelle colonne en chiffres entier"
   ]
  },
  {
   "cell_type": "code",
   "execution_count": 8,
   "metadata": {},
   "outputs": [],
   "source": [
    "df_freq_gare[\"frequentation_2022\"] = df_freq_gare[\"frequentation_2022\"].astype(int)\n",
    "df_freq_gare.to_csv(\"frequentations_gare\")"
   ]
  },
  {
   "attachments": {},
   "cell_type": "markdown",
   "metadata": {},
   "source": [
    "### Renomme le nom de la gare pour plus de cohérence avec les autres DataFrame et Base de donnée"
   ]
  },
  {
   "cell_type": "code",
   "execution_count": 11,
   "metadata": {},
   "outputs": [],
   "source": [
    "df_freq_gare['nom_gare'] = df_freq_gare['nom_gare'].replace(\"Paris Bercy Bourgogne - Pays d'Auvergne\", \"Paris Bercy\")\n"
   ]
  },
  {
   "cell_type": "code",
   "execution_count": 15,
   "metadata": {},
   "outputs": [],
   "source": [
    "coordonees = [\n",
    "    (48.840609, 2.366563),  # Paris Austerlitz\n",
    "    (48.840889, 2.381641),  # Paris Bercy\n",
    "    (48.876576, 2.359084),  # Paris Est\n",
    "    (48.844512, 2.373522),  # Paris Gare de Lyon\n",
    "    (48.880931, 2.355158),  # Paris Gare du Nord\n",
    "    (48.840847, 2.319543),  # Paris Montparnasse\n",
    "    (48.876141, 2.326190)   # Paris Saint-Lazare\n",
    "]\n",
    "\n",
    "df_freq_gare['latitude'] = [coord[0] for coord in coordonees]\n",
    "df_freq_gare['longitude'] = [coord[1] for coord in coordonees]"
   ]
  },
  {
   "cell_type": "code",
   "execution_count": 16,
   "metadata": {},
   "outputs": [
    {
     "data": {
      "text/html": [
       "<div>\n",
       "<style scoped>\n",
       "    .dataframe tbody tr th:only-of-type {\n",
       "        vertical-align: middle;\n",
       "    }\n",
       "\n",
       "    .dataframe tbody tr th {\n",
       "        vertical-align: top;\n",
       "    }\n",
       "\n",
       "    .dataframe thead th {\n",
       "        text-align: right;\n",
       "    }\n",
       "</style>\n",
       "<table border=\"1\" class=\"dataframe\">\n",
       "  <thead>\n",
       "    <tr style=\"text-align: right;\">\n",
       "      <th></th>\n",
       "      <th>nom_gare</th>\n",
       "      <th>code_postal</th>\n",
       "      <th>frequentation_2019</th>\n",
       "      <th>frequentation_2020</th>\n",
       "      <th>frequentation_2021</th>\n",
       "      <th>frequentation_2022</th>\n",
       "      <th>latitude</th>\n",
       "      <th>longitude</th>\n",
       "    </tr>\n",
       "  </thead>\n",
       "  <tbody>\n",
       "    <tr>\n",
       "      <th>1</th>\n",
       "      <td>Paris Austerlitz</td>\n",
       "      <td>75013</td>\n",
       "      <td>21682820</td>\n",
       "      <td>13203603</td>\n",
       "      <td>22281301</td>\n",
       "      <td>19055908</td>\n",
       "      <td>48.840609</td>\n",
       "      <td>2.366563</td>\n",
       "    </tr>\n",
       "    <tr>\n",
       "      <th>2</th>\n",
       "      <td>Paris Bercy</td>\n",
       "      <td>75012</td>\n",
       "      <td>4318464</td>\n",
       "      <td>2498330</td>\n",
       "      <td>3347763</td>\n",
       "      <td>3388185</td>\n",
       "      <td>48.840889</td>\n",
       "      <td>2.381641</td>\n",
       "    </tr>\n",
       "    <tr>\n",
       "      <th>3</th>\n",
       "      <td>Paris Est</td>\n",
       "      <td>75010</td>\n",
       "      <td>41240098</td>\n",
       "      <td>21580625</td>\n",
       "      <td>27758686</td>\n",
       "      <td>30193136</td>\n",
       "      <td>48.876576</td>\n",
       "      <td>2.359084</td>\n",
       "    </tr>\n",
       "    <tr>\n",
       "      <th>4</th>\n",
       "      <td>Paris Gare de Lyon</td>\n",
       "      <td>75012</td>\n",
       "      <td>112644337</td>\n",
       "      <td>55824824</td>\n",
       "      <td>79986275</td>\n",
       "      <td>82818478</td>\n",
       "      <td>48.844512</td>\n",
       "      <td>2.373522</td>\n",
       "    </tr>\n",
       "    <tr>\n",
       "      <th>5</th>\n",
       "      <td>Paris Gare du Nord</td>\n",
       "      <td>75010</td>\n",
       "      <td>244759909</td>\n",
       "      <td>92236287</td>\n",
       "      <td>126622180</td>\n",
       "      <td>154539458</td>\n",
       "      <td>48.880931</td>\n",
       "      <td>2.355158</td>\n",
       "    </tr>\n",
       "    <tr>\n",
       "      <th>6</th>\n",
       "      <td>Paris Montparnasse</td>\n",
       "      <td>75015</td>\n",
       "      <td>61374035</td>\n",
       "      <td>32439307</td>\n",
       "      <td>41043477</td>\n",
       "      <td>44952273</td>\n",
       "      <td>48.840847</td>\n",
       "      <td>2.319543</td>\n",
       "    </tr>\n",
       "    <tr>\n",
       "      <th>7</th>\n",
       "      <td>Paris Saint-Lazare</td>\n",
       "      <td>75008</td>\n",
       "      <td>107340421</td>\n",
       "      <td>114468385</td>\n",
       "      <td>91502192</td>\n",
       "      <td>104436999</td>\n",
       "      <td>48.876141</td>\n",
       "      <td>2.326190</td>\n",
       "    </tr>\n",
       "  </tbody>\n",
       "</table>\n",
       "</div>"
      ],
      "text/plain": [
       "             nom_gare code_postal  frequentation_2019  frequentation_2020  \\\n",
       "1    Paris Austerlitz       75013            21682820            13203603   \n",
       "2         Paris Bercy       75012             4318464             2498330   \n",
       "3           Paris Est       75010            41240098            21580625   \n",
       "4  Paris Gare de Lyon       75012           112644337            55824824   \n",
       "5  Paris Gare du Nord       75010           244759909            92236287   \n",
       "6  Paris Montparnasse       75015            61374035            32439307   \n",
       "7  Paris Saint-Lazare       75008           107340421           114468385   \n",
       "\n",
       "   frequentation_2021  frequentation_2022   latitude  longitude  \n",
       "1            22281301            19055908  48.840609   2.366563  \n",
       "2             3347763             3388185  48.840889   2.381641  \n",
       "3            27758686            30193136  48.876576   2.359084  \n",
       "4            79986275            82818478  48.844512   2.373522  \n",
       "5           126622180           154539458  48.880931   2.355158  \n",
       "6            41043477            44952273  48.840847   2.319543  \n",
       "7            91502192           104436999  48.876141   2.326190  "
      ]
     },
     "execution_count": 16,
     "metadata": {},
     "output_type": "execute_result"
    }
   ],
   "source": [
    "df_freq_gare"
   ]
  },
  {
   "cell_type": "code",
   "execution_count": 17,
   "metadata": {},
   "outputs": [],
   "source": [
    "df_freq_gare.to_csv(\"frequentations_gare.csv\", index=False)"
   ]
  }
 ],
 "metadata": {
  "kernelspec": {
   "display_name": "machinlearn",
   "language": "python",
   "name": "python3"
  },
  "language_info": {
   "codemirror_mode": {
    "name": "ipython",
    "version": 3
   },
   "file_extension": ".py",
   "mimetype": "text/x-python",
   "name": "python",
   "nbconvert_exporter": "python",
   "pygments_lexer": "ipython3",
   "version": "3.10.9"
  },
  "orig_nbformat": 4
 },
 "nbformat": 4,
 "nbformat_minor": 2
}
