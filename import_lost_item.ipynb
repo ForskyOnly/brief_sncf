{
 "cells": [
  {
   "cell_type": "code",
   "execution_count": null,
   "metadata": {},
   "outputs": [],
   "source": [
    "import requests\n",
    "import pandas as pd\n",
    "from datetime import datetime \n",
    "from dateutil.parser import parse\n",
    "\n",
    "\n",
    "\n",
    "\n",
    "urls =  [\"https://ressources.data.sncf.com/api/records/1.0/search/?dataset=objets-trouves-restitution&q=paris&sort=date&facet=date&facet=gc_obo_date_heure_restitution_c&facet=gc_obo_gare_origine_r_name&facet=gc_obo_nature_c&facet=gc_obo_type_c&facet=gc_obo_nom_recordtype_sc_c&refine.date=2019&refine.gc_obo_gare_origine_r_name=Paris+Gare+de+Lyon\",\"https://ressources.data.sncf.com/api/records/1.0/search/?dataset=objets-trouves-restitution&q=&sort=date&facet=date&facet=gc_obo_date_heure_restitution_c&facet=gc_obo_gare_origine_r_name&facet=gc_obo_nature_c&facet=gc_obo_type_c&facet=gc_obo_nom_recordtype_sc_c&refine.date=2019&refine.gc_obo_gare_origine_r_name=Paris+Montparnasse\",\"https://ressources.data.sncf.com/api/records/1.0/search/?dataset=objets-trouves-restitution&q=&sort=date&facet=date&facet=gc_obo_date_heure_restitution_c&facet=gc_obo_gare_origine_r_name&facet=gc_obo_nature_c&facet=gc_obo_type_c&facet=gc_obo_nom_recordtype_sc_c&refine.date=2019&refine.gc_obo_gare_origine_r_name=Paris+Gare+du+Nord\",\"https://ressources.data.sncf.com/api/records/1.0/search/?dataset=objets-trouves-restitution&q=paris&sort=date&facet=date&facet=gc_obo_date_heure_restitution_c&facet=gc_obo_gare_origine_r_name&facet=gc_obo_nature_c&facet=gc_obo_type_c&facet=gc_obo_nom_recordtype_sc_c&refine.date=2019&refine.gc_obo_gare_origine_r_name=Paris+Saint-Lazare\",\"https://ressources.data.sncf.com/api/records/1.0/search/?dataset=objets-trouves-restitution&q=paris&sort=date&facet=date&facet=gc_obo_date_heure_restitution_c&facet=gc_obo_gare_origine_r_name&facet=gc_obo_nature_c&facet=gc_obo_type_c&facet=gc_obo_nom_recordtype_sc_c&refine.date=2019&refine.gc_obo_gare_origine_r_name=Paris+Est\",\"https://ressources.data.sncf.com//api/records/1.0/search/?dataset=objets-trouves-restitution&q=paris&sort=date&facet=date&facet=gc_obo_date_heure_restitution_c&facet=gc_obo_gare_origine_r_name&facet=gc_obo_nature_c&facet=gc_obo_type_c&facet=gc_obo_nom_recordtype_sc_c&refine.date=2019&refine.gc_obo_gare_origine_r_name=Paris+Bercy\",\"https://ressources.data.sncf.com/api/records/1.0/search/?dataset=objets-trouves-restitution&q=paris&sort=date&facet=date&facet=gc_obo_date_heure_restitution_c&facet=gc_obo_gare_origine_r_name&facet=gc_obo_nature_c&facet=gc_obo_type_c&facet=gc_obo_nom_recordtype_sc_c&refine.date=2019&refine.gc_obo_gare_origine_r_name=Paris+Austerlitz\",\"https://ressources.data.sncf.com/api/records/1.0/search/?dataset=objets-trouves-restitution&q=paris&sort=date&facet=date&facet=gc_obo_date_heure_restitution_c&facet=gc_obo_gare_origine_r_name&facet=gc_obo_nature_c&facet=gc_obo_type_c&facet=gc_obo_nom_recordtype_sc_c&refine.gc_obo_gare_origine_r_name=Paris+Austerlitz&refine.gc_obo_date_heure_restitution_c=2020\",\"https://ressources.data.sncf.com//api/records/1.0/search/?dataset=objets-trouves-restitution&q=paris&sort=date&facet=date&facet=gc_obo_date_heure_restitution_c&facet=gc_obo_gare_origine_r_name&facet=gc_obo_nature_c&facet=gc_obo_type_c&facet=gc_obo_nom_recordtype_sc_c&refine.date=2020&refine.gc_obo_gare_origine_r_name=Paris+Bercy\",\"https://ressources.data.sncf.com/api/records/1.0/search/?dataset=objets-trouves-restitution&q=paris&sort=date&facet=date&facet=gc_obo_date_heure_restitution_c&facet=gc_obo_gare_origine_r_name&facet=gc_obo_nature_c&facet=gc_obo_type_c&facet=gc_obo_nom_recordtype_sc_c&refine.date=2020&refine.gc_obo_gare_origine_r_name=Paris+Est\",\"https://ressources.data.sncf.com/api/records/1.0/search/?dataset=objets-trouves-restitution&q=paris&sort=date&facet=date&facet=gc_obo_date_heure_restitution_c&facet=gc_obo_gare_origine_r_name&facet=gc_obo_nature_c&facet=gc_obo_type_c&facet=gc_obo_nom_recordtype_sc_c&refine.date=2020&refine.gc_obo_gare_origine_r_name=Paris+Saint-Lazare\",\"https://ressources.data.sncf.com//api/records/1.0/search/?dataset=objets-trouves-restitution&q=paris&sort=date&facet=date&facet=gc_obo_date_heure_restitution_c&facet=gc_obo_gare_origine_r_name&facet=gc_obo_nature_c&facet=gc_obo_type_c&facet=gc_obo_nom_recordtype_sc_c&refine.date=2020&refine.gc_obo_gare_origine_r_name=Paris+Gare+du+Nord\",\"https://ressources.data.sncf.com/api/records/1.0/search/?dataset=objets-trouves-restitution&q=paris&sort=date&facet=date&facet=gc_obo_date_heure_restitution_c&facet=gc_obo_gare_origine_r_name&facet=gc_obo_nature_c&facet=gc_obo_type_c&facet=gc_obo_nom_recordtype_sc_c&refine.date=2020&refine.gc_obo_gare_origine_r_name=Paris+Montparnasse\",\"https://ressources.data.sncf.com//api/records/1.0/search/?dataset=objets-trouves-restitution&q=paris&sort=date&facet=date&facet=gc_obo_date_heure_restitution_c&facet=gc_obo_gare_origine_r_name&facet=gc_obo_nature_c&facet=gc_obo_type_c&facet=gc_obo_nom_recordtype_sc_c&refine.date=2020&refine.gc_obo_gare_origine_r_name=Paris+Gare+de+Lyon\",\"https://ressources.data.sncf.com//api/records/1.0/search/?dataset=objets-trouves-restitution&q=paris&sort=date&facet=date&facet=gc_obo_date_heure_restitution_c&facet=gc_obo_gare_origine_r_name&facet=gc_obo_nature_c&facet=gc_obo_type_c&facet=gc_obo_nom_recordtype_sc_c&refine.date=2021&refine.gc_obo_gare_origine_r_name=Paris+Montparnasse\",\"https://ressources.data.sncf.com//api/records/1.0/search/?dataset=objets-trouves-restitution&q=paris&sort=date&facet=date&facet=gc_obo_date_heure_restitution_c&facet=gc_obo_gare_origine_r_name&facet=gc_obo_nature_c&facet=gc_obo_type_c&facet=gc_obo_nom_recordtype_sc_c&refine.date=2021&refine.gc_obo_gare_origine_r_name=Paris+Gare+de+Lyon\",\"https://ressources.data.sncf.com//api/records/1.0/search/?dataset=objets-trouves-restitution&q=paris&sort=date&facet=date&facet=gc_obo_date_heure_restitution_c&facet=gc_obo_gare_origine_r_name&facet=gc_obo_nature_c&facet=gc_obo_type_c&facet=gc_obo_nom_recordtype_sc_c&refine.date=2021&refine.gc_obo_gare_origine_r_name=Paris+Saint-Lazare\",\"https://ressources.data.sncf.com/api/records/1.0/search/?dataset=objets-trouves-restitution&q=paris&sort=date&facet=date&facet=gc_obo_date_heure_restitution_c&facet=gc_obo_gare_origine_r_name&facet=gc_obo_nature_c&facet=gc_obo_type_c&facet=gc_obo_nom_recordtype_sc_c&refine.date=2021&refine.gc_obo_gare_origine_r_name=Paris+Gare+du+Nord\",\"https://ressources.data.sncf.com/api/records/1.0/search/?dataset=objets-trouves-restitution&q=paris&sort=date&facet=date&facet=gc_obo_date_heure_restitution_c&facet=gc_obo_gare_origine_r_name&facet=gc_obo_nature_c&facet=gc_obo_type_c&facet=gc_obo_nom_recordtype_sc_c&refine.date=2021&refine.gc_obo_gare_origine_r_name=Paris+Est\",\"https://ressources.data.sncf.com/api/records/1.0/search/?dataset=objets-trouves-restitution&q=paris&sort=date&facet=date&facet=gc_obo_date_heure_restitution_c&facet=gc_obo_gare_origine_r_name&facet=gc_obo_nature_c&facet=gc_obo_type_c&facet=gc_obo_nom_recordtype_sc_c&refine.date=2021&refine.gc_obo_gare_origine_r_name=Paris+Austerlitz\",\"https://ressources.data.sncf.com/api/records/1.0/search/?dataset=objets-trouves-restitution&q=paris&sort=date&facet=date&facet=gc_obo_date_heure_restitution_c&facet=gc_obo_gare_origine_r_name&facet=gc_obo_nature_c&facet=gc_obo_type_c&facet=gc_obo_nom_recordtype_sc_c&refine.date=2021&refine.gc_obo_gare_origine_r_name=Paris+Bercy\",\"https://ressources.data.sncf.com/api/records/1.0/search/?dataset=objets-trouves-restitution&q=paris&sort=date&facet=date&facet=gc_obo_date_heure_restitution_c&facet=gc_obo_gare_origine_r_name&facet=gc_obo_nature_c&facet=gc_obo_type_c&facet=gc_obo_nom_recordtype_sc_c&refine.date=2022&refine.gc_obo_gare_origine_r_name=Paris+Gare+de+Lyon\",\"https://ressources.data.sncf.com/api/records/1.0/search/?dataset=objets-trouves-restitution&q=paris&sort=date&facet=date&facet=gc_obo_date_heure_restitution_c&facet=gc_obo_gare_origine_r_name&facet=gc_obo_nature_c&facet=gc_obo_type_c&facet=gc_obo_nom_recordtype_sc_c&refine.date=2022&refine.gc_obo_gare_origine_r_name=Paris+Montparnasse\",\"https://ressources.data.sncf.com/api/records/1.0/search/?dataset=objets-trouves-restitution&q=paris&sort=date&facet=date&facet=gc_obo_date_heure_restitution_c&facet=gc_obo_gare_origine_r_name&facet=gc_obo_nature_c&facet=gc_obo_type_c&facet=gc_obo_nom_recordtype_sc_c&refine.date=2022&refine.gc_obo_gare_origine_r_name=Paris+Saint-Lazare\",\"https://ressources.data.sncf.com/api/records/1.0/search/?dataset=objets-trouves-restitution&q=paris&sort=date&facet=date&facet=gc_obo_date_heure_restitution_c&facet=gc_obo_gare_origine_r_name&facet=gc_obo_nature_c&facet=gc_obo_type_c&facet=gc_obo_nom_recordtype_sc_c&refine.date=2022&refine.gc_obo_gare_origine_r_name=Paris+Gare+du+Nord\",\"https://ressources.data.sncf.com/api/records/1.0/search/?dataset=objets-trouves-restitution&q=paris&sort=date&facet=date&facet=gc_obo_date_heure_restitution_c&facet=gc_obo_gare_origine_r_name&facet=gc_obo_nature_c&facet=gc_obo_type_c&facet=gc_obo_nom_recordtype_sc_c&refine.date=2022&refine.gc_obo_gare_origine_r_name=Paris+Est\",\"https://ressources.data.sncf.com//api/records/1.0/search/?dataset=objets-trouves-restitution&q=paris&sort=date&facet=date&facet=gc_obo_date_heure_restitution_c&facet=gc_obo_gare_origine_r_name&facet=gc_obo_nature_c&facet=gc_obo_type_c&facet=gc_obo_nom_recordtype_sc_c&refine.date=2022&refine.gc_obo_gare_origine_r_name=Paris+Austerlitz\",\"https://ressources.data.sncf.com/api/records/1.0/search/?dataset=objets-trouves-restitution&q=paris&sort=date&facet=date&facet=gc_obo_date_heure_restitution_c&facet=gc_obo_gare_origine_r_name&facet=gc_obo_nature_c&facet=gc_obo_type_c&facet=gc_obo_nom_recordtype_sc_c&refine.date=2022&refine.gc_obo_gare_origine_r_name=Paris+Bercy\"]\n",
    "\n",
    "def importer_donnees_gares(urls):\n",
    "    \n",
    "    data = []\n",
    "\n",
    "    rows = 50\n",
    "    \n",
    "    for url in urls:\n",
    "        start = 0\n",
    "        total_records = None\n",
    "        \n",
    "        while total_records is None or start < total_records:\n",
    "            response = requests.get(url, params={\"rows\": rows, \"start\": start})\n",
    "            \n",
    "            if response.status_code == 200:\n",
    "                response_json = response.json()\n",
    "                records = response_json[\"records\"]\n",
    "                total_records = response_json[\"nhits\"]\n",
    "                \n",
    "                for record in records:\n",
    "                    date = parse(record[\"fields\"][\"date\"])\n",
    "                    formatted_date = date.strftime(\"%Y-%m-%d\")\n",
    "                    objet_trouve = {\n",
    "                        \"Nom_gare\": record[\"fields\"][\"gc_obo_gare_origine_r_name\"],\n",
    "                        \"Type_objet\": record[\"fields\"][\"gc_obo_type_c\"],\n",
    "                        \"Nature_objet\": record[\"fields\"][\"gc_obo_nature_c\"],\n",
    "                        \"Date\": formatted_date\n",
    "                    }\n",
    "                    data.append(objet_trouve)\n",
    "                \n",
    "                start += rows\n",
    "            \n",
    "            else:\n",
    "                print(response.status_code)\n",
    "                break\n",
    "    \n",
    "    return data\n",
    "\n",
    "donnees= importer_donnees_gares(urls)\n",
    "\n"
   ]
  },
  {
   "cell_type": "code",
   "execution_count": 2,
   "metadata": {},
   "outputs": [],
   "source": [
    "df_objet_perdus=pd.DataFrame(donnees)\n",
    "\n",
    "df_objet_perdus = df_objet_perdus.reset_index()\n",
    "df_objet_perdus.index += 1\n",
    "df_objet_perdus = df_objet_perdus.drop(columns=['index'])\n",
    "\n",
    "df_objet_perdus.to_csv(\"objets_perdus.csv\", index=False)"
   ]
  }
 ],
 "metadata": {
  "kernelspec": {
   "display_name": "machinlearn",
   "language": "python",
   "name": "python3"
  },
  "language_info": {
   "codemirror_mode": {
    "name": "ipython",
    "version": 3
   },
   "file_extension": ".py",
   "mimetype": "text/x-python",
   "name": "python",
   "nbconvert_exporter": "python",
   "pygments_lexer": "ipython3",
   "version": "3.10.9"
  },
  "orig_nbformat": 4
 },
 "nbformat": 4,
 "nbformat_minor": 2
}
