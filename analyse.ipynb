{
 "cells": [
  {
   "cell_type": "code",
   "execution_count": 25,
   "metadata": {},
   "outputs": [],
   "source": [
    "import os\n",
    "from dotenv import load_dotenv\n",
    "import requests\n",
    "import pandas as pd\n",
    "from datetime import datetime\n",
    "import sqlite3"
   ]
  },
  {
   "cell_type": "code",
   "execution_count": 26,
   "metadata": {},
   "outputs": [
    {
     "name": "stdout",
     "output_type": "stream",
     "text": [
      "429\n"
     ]
    }
   ],
   "source": [
    "\n",
    "url = \"https://ressources.data.sncf.com/api/records/1.0/search/?dataset=objets-trouves-restitution&q=paris&sort=date&facet=date&facet=gc_obo_date_heure_restitution_c&facet=gc_obo_gare_origine_r_name&facet=gc_obo_nature_c&facet=gc_obo_type_c&facet=gc_obo_nom_recordtype_sc_c&refine.date=2019&refine.gc_obo_gare_origine_r_name=Paris+Gare+de+Lyon\"\n",
    "data = []\n",
    "\n",
    "start = 0\n",
    "rows = 50\n",
    "total_records = None\n",
    "\n",
    "while total_records is None or start < total_records:\n",
    "    response = requests.get(url, params={\"rows\": rows, \"start\": start})\n",
    "    \n",
    "    if response.status_code == 200:\n",
    "        response_json = response.json()\n",
    "        records = response_json[\"records\"]\n",
    "        total_records = response_json[\"nhits\"]\n",
    "        \n",
    "        for record in records:\n",
    "            objet_trouve = {\n",
    "                \"Code gare\": record[\"fields\"][\"gc_obo_gare_origine_r_code_uic_c\"],\n",
    "                \"Nom gare\": record[\"fields\"][\"gc_obo_gare_origine_r_name\"],\n",
    "                \"Type d'objet\": record[\"fields\"][\"gc_obo_type_c\"],\n",
    "                \"Nature de l'objet\": record[\"fields\"][\"gc_obo_nature_c\"],\n",
    "                \"Type d'enregistrement\": record[\"fields\"][\"gc_obo_nom_recordtype_sc_c\"],\n",
    "                \"Date\": record[\"fields\"][\"date\"]\n",
    "            }\n",
    "            data.append(objet_trouve)\n",
    "        \n",
    "        start += rows\n",
    "    \n",
    "    else:\n",
    "        print(response.status_code)\n",
    "        break\n",
    "        \n"
   ]
  },
  {
   "cell_type": "code",
   "execution_count": 27,
   "metadata": {},
   "outputs": [],
   "source": [
    "df_objets19 = pd.DataFrame(data)"
   ]
  },
  {
   "cell_type": "code",
   "execution_count": 28,
   "metadata": {},
   "outputs": [
    {
     "data": {
      "text/html": [
       "<div>\n",
       "<style scoped>\n",
       "    .dataframe tbody tr th:only-of-type {\n",
       "        vertical-align: middle;\n",
       "    }\n",
       "\n",
       "    .dataframe tbody tr th {\n",
       "        vertical-align: top;\n",
       "    }\n",
       "\n",
       "    .dataframe thead th {\n",
       "        text-align: right;\n",
       "    }\n",
       "</style>\n",
       "<table border=\"1\" class=\"dataframe\">\n",
       "  <thead>\n",
       "    <tr style=\"text-align: right;\">\n",
       "      <th></th>\n",
       "    </tr>\n",
       "  </thead>\n",
       "  <tbody>\n",
       "  </tbody>\n",
       "</table>\n",
       "</div>"
      ],
      "text/plain": [
       "Empty DataFrame\n",
       "Columns: []\n",
       "Index: []"
      ]
     },
     "execution_count": 28,
     "metadata": {},
     "output_type": "execute_result"
    }
   ],
   "source": [
    "df_objets19"
   ]
  },
  {
   "attachments": {},
   "cell_type": "markdown",
   "metadata": {},
   "source": [
    "RECUPERATION TEMPERATURES PAR JOUR "
   ]
  },
  {
   "cell_type": "code",
   "execution_count": 50,
   "metadata": {},
   "outputs": [
    {
     "data": {
      "text/html": [
       "<div>\n",
       "<style scoped>\n",
       "    .dataframe tbody tr th:only-of-type {\n",
       "        vertical-align: middle;\n",
       "    }\n",
       "\n",
       "    .dataframe tbody tr th {\n",
       "        vertical-align: top;\n",
       "    }\n",
       "\n",
       "    .dataframe thead th {\n",
       "        text-align: right;\n",
       "    }\n",
       "</style>\n",
       "<table border=\"1\" class=\"dataframe\">\n",
       "  <thead>\n",
       "    <tr style=\"text-align: right;\">\n",
       "      <th></th>\n",
       "      <th>time</th>\n",
       "      <th>temperature</th>\n",
       "    </tr>\n",
       "  </thead>\n",
       "  <tbody>\n",
       "    <tr>\n",
       "      <th>35059</th>\n",
       "      <td>2022-12-31T19:00</td>\n",
       "      <td>14.9</td>\n",
       "    </tr>\n",
       "    <tr>\n",
       "      <th>35060</th>\n",
       "      <td>2022-12-31T20:00</td>\n",
       "      <td>15.2</td>\n",
       "    </tr>\n",
       "    <tr>\n",
       "      <th>35061</th>\n",
       "      <td>2022-12-31T21:00</td>\n",
       "      <td>15.1</td>\n",
       "    </tr>\n",
       "    <tr>\n",
       "      <th>35062</th>\n",
       "      <td>2022-12-31T22:00</td>\n",
       "      <td>14.9</td>\n",
       "    </tr>\n",
       "    <tr>\n",
       "      <th>35063</th>\n",
       "      <td>2022-12-31T23:00</td>\n",
       "      <td>14.9</td>\n",
       "    </tr>\n",
       "  </tbody>\n",
       "</table>\n",
       "</div>"
      ],
      "text/plain": [
       "                   time  temperature\n",
       "35059  2022-12-31T19:00         14.9\n",
       "35060  2022-12-31T20:00         15.2\n",
       "35061  2022-12-31T21:00         15.1\n",
       "35062  2022-12-31T22:00         14.9\n",
       "35063  2022-12-31T23:00         14.9"
      ]
     },
     "execution_count": 50,
     "metadata": {},
     "output_type": "execute_result"
    }
   ],
   "source": [
    "# Chargement des données depuis un fichier CSV\n",
    "datatemp = pd.read_csv(\"donneemeteoo.csv\")\n",
    "datatemp.drop(columns=[\"Unnamed: 2\", \"Unnamed: 3\", \"Unnamed: 4\", \"Unnamed: 5\"], inplace=True)\n",
    "\n",
    "datatemp.tail()"
   ]
  },
  {
   "cell_type": "code",
   "execution_count": 53,
   "metadata": {},
   "outputs": [
    {
     "name": "stdout",
     "output_type": "stream",
     "text": [
      "time\n",
      "2019-01-01     7.570833\n",
      "2019-01-02     5.166667\n",
      "2019-01-03     2.283333\n",
      "2019-01-04     1.512500\n",
      "2019-01-05     2.954167\n",
      "                ...    \n",
      "2022-12-27     5.837500\n",
      "2022-12-28    10.283333\n",
      "2022-12-29     9.358333\n",
      "2022-12-30    10.254167\n",
      "2022-12-31    15.112500\n",
      "Name: temperature, Length: 1461, dtype: float64\n"
     ]
    }
   ],
   "source": [
    "# Chargement des données depuis un fichier CSV\n",
    "datatemp = pd.read_csv(\"donneemeteoo.csv\")\n",
    "\n",
    "# Conversion de la colonne \"time\" en type datetime\n",
    "datatemp['time'] = pd.to_datetime(datatemp['time'])\n",
    "\n",
    "# Regroupement par jour et calcul de la moyenne de la colonne \"temperature_2m\"\n",
    "datatemp = datatemp.groupby(datatemp['time'].dt.date)['temperature'].mean()\n",
    "\n",
    "# Affichage des résultats\n",
    "print(datatemp)"
   ]
  },
  {
   "cell_type": "code",
   "execution_count": 54,
   "metadata": {},
   "outputs": [
    {
     "data": {
      "text/plain": [
       "time\n",
       "2019-01-01     7.570833\n",
       "2019-01-02     5.166667\n",
       "2019-01-03     2.283333\n",
       "2019-01-04     1.512500\n",
       "2019-01-05     2.954167\n",
       "                ...    \n",
       "2022-12-27     5.837500\n",
       "2022-12-28    10.283333\n",
       "2022-12-29     9.358333\n",
       "2022-12-30    10.254167\n",
       "2022-12-31    15.112500\n",
       "Name: temperature, Length: 1461, dtype: float64"
      ]
     },
     "execution_count": 54,
     "metadata": {},
     "output_type": "execute_result"
    }
   ],
   "source": [
    "datatemp"
   ]
  }
 ],
 "metadata": {
  "kernelspec": {
   "display_name": "machinlearn",
   "language": "python",
   "name": "python3"
  },
  "language_info": {
   "codemirror_mode": {
    "name": "ipython",
    "version": 3
   },
   "file_extension": ".py",
   "mimetype": "text/x-python",
   "name": "python",
   "nbconvert_exporter": "python",
   "pygments_lexer": "ipython3",
   "version": "3.10.6"
  },
  "orig_nbformat": 4
 },
 "nbformat": 4,
 "nbformat_minor": 2
}
