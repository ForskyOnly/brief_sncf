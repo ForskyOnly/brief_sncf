{
 "cells": [
  {
   "cell_type": "code",
   "execution_count": 1,
   "metadata": {},
   "outputs": [],
   "source": [
    "import os\n",
    "from dotenv import load_dotenv\n",
    "import requests\n",
    "import pandas as pd\n",
    "from datetime import datetime\n",
    "import sqlite3"
   ]
  },
  {
   "cell_type": "code",
   "execution_count": 28,
   "metadata": {},
   "outputs": [
    {
     "name": "stdout",
     "output_type": "stream",
     "text": [
      "429\n"
     ]
    }
   ],
   "source": [
    "\n",
    "url = \"https://ressources.data.sncf.com/api/records/1.0/search/?dataset=objets-trouves-restitution&q=paris&sort=date&facet=date&facet=gc_obo_date_heure_restitution_c&facet=gc_obo_gare_origine_r_name&facet=gc_obo_nature_c&facet=gc_obo_type_c&facet=gc_obo_nom_recordtype_sc_c&refine.date=2019&refine.gc_obo_gare_origine_r_name=Paris+Gare+de+Lyon\"\n",
    "data = []\n",
    "\n",
    "start = 0\n",
    "rows = 50\n",
    "total_records = None\n",
    "\n",
    "while total_records is None or start < total_records:\n",
    "    response = requests.get(url, params={\"rows\": rows, \"start\": start})\n",
    "    \n",
    "    if response.status_code == 200:\n",
    "        response_json = response.json()\n",
    "        records = response_json[\"records\"]\n",
    "        total_records = response_json[\"nhits\"]\n",
    "        \n",
    "        for record in records:\n",
    "            objet_trouve = {\n",
    "                \"Code gare\": record[\"fields\"][\"gc_obo_gare_origine_r_code_uic_c\"],\n",
    "                \"Nom gare\": record[\"fields\"][\"gc_obo_gare_origine_r_name\"],\n",
    "                \"Type d'objet\": record[\"fields\"][\"gc_obo_type_c\"],\n",
    "                \"Nature de l'objet\": record[\"fields\"][\"gc_obo_nature_c\"],\n",
    "                \"Type d'enregistrement\": record[\"fields\"][\"gc_obo_nom_recordtype_sc_c\"],\n",
    "                \"Date\": record[\"fields\"][\"date\"]\n",
    "            }\n",
    "            data.append(objet_trouve)\n",
    "        \n",
    "        start += rows\n",
    "    \n",
    "    else:\n",
    "        print(response.status_code)\n",
    "        break\n",
    "        \n"
   ]
  },
  {
   "cell_type": "code",
   "execution_count": 25,
   "metadata": {},
   "outputs": [],
   "source": [
    "df_objets2019 = pd.DataFrame(data)"
   ]
  },
  {
   "cell_type": "code",
   "execution_count": 27,
   "metadata": {},
   "outputs": [
    {
     "data": {
      "text/html": [
       "<div>\n",
       "<style scoped>\n",
       "    .dataframe tbody tr th:only-of-type {\n",
       "        vertical-align: middle;\n",
       "    }\n",
       "\n",
       "    .dataframe tbody tr th {\n",
       "        vertical-align: top;\n",
       "    }\n",
       "\n",
       "    .dataframe thead th {\n",
       "        text-align: right;\n",
       "    }\n",
       "</style>\n",
       "<table border=\"1\" class=\"dataframe\">\n",
       "  <thead>\n",
       "    <tr style=\"text-align: right;\">\n",
       "      <th></th>\n",
       "    </tr>\n",
       "  </thead>\n",
       "  <tbody>\n",
       "  </tbody>\n",
       "</table>\n",
       "</div>"
      ],
      "text/plain": [
       "Empty DataFrame\n",
       "Columns: []\n",
       "Index: []"
      ]
     },
     "execution_count": 27,
     "metadata": {},
     "output_type": "execute_result"
    }
   ],
   "source": [
    "df_objets2019"
   ]
  }
 ],
 "metadata": {
  "kernelspec": {
   "display_name": "machinlearn",
   "language": "python",
   "name": "python3"
  },
  "language_info": {
   "codemirror_mode": {
    "name": "ipython",
    "version": 3
   },
   "file_extension": ".py",
   "mimetype": "text/x-python",
   "name": "python",
   "nbconvert_exporter": "python",
   "pygments_lexer": "ipython3",
   "version": "3.10.9"
  },
  "orig_nbformat": 4
 },
 "nbformat": 4,
 "nbformat_minor": 2
}
