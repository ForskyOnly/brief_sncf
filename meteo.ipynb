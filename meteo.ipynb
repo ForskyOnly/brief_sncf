{
 "cells": [
  {
   "cell_type": "code",
   "execution_count": 2,
   "metadata": {},
   "outputs": [],
   "source": [
    "import pandas as pd"
   ]
  },
  {
   "cell_type": "code",
   "execution_count": null,
   "metadata": {},
   "outputs": [],
   "source": [
    "# Chargement des données depuis un fichier CSV\n",
    "datatemp = pd.read_csv(\"donneemeteoo.csv\")\n",
    "datatemp.drop(columns=[\"Unnamed: 2\", \"Unnamed: 3\", \"Unnamed: 4\", \"Unnamed: 5\"], inplace=True)\n",
    "\n",
    "datatemp.tail()"
   ]
  },
  {
   "cell_type": "code",
   "execution_count": 4,
   "metadata": {},
   "outputs": [
    {
     "name": "stdout",
     "output_type": "stream",
     "text": [
      "time\n",
      "2019-01-01     7.570833\n",
      "2019-01-02     5.166667\n",
      "2019-01-03     2.283333\n",
      "2019-01-04     1.512500\n",
      "2019-01-05     2.954167\n",
      "                ...    \n",
      "2022-12-27     5.837500\n",
      "2022-12-28    10.283333\n",
      "2022-12-29     9.358333\n",
      "2022-12-30    10.254167\n",
      "2022-12-31    15.112500\n",
      "Name: temperature, Length: 1461, dtype: float64\n"
     ]
    }
   ],
   "source": [
    "# Chargement des données depuis un fichier CSV\n",
    "datatemp = pd.read_csv(\"donneemeteoo.csv\")\n",
    "\n",
    "# Conversion de la colonne \"time\" en type datetime\n",
    "datatemp['time'] = pd.to_datetime(datatemp['time'])\n",
    "\n",
    "# Regroupement par jour et calcul de la moyenne de la colonne \"temperature_2m\"\n",
    "datatemp = datatemp.groupby(datatemp['time'].dt.date)['temperature'].mean()\n",
    "\n",
    "# Affichage des résultats\n",
    "print(datatemp)"
   ]
  },
  {
   "cell_type": "code",
   "execution_count": 5,
   "metadata": {},
   "outputs": [],
   "source": [
    "datatemp.to_csv(\"donneemeteo.csv\")"
   ]
  }
 ],
 "metadata": {
  "kernelspec": {
   "display_name": "machinelearning",
   "language": "python",
   "name": "python3"
  },
  "language_info": {
   "codemirror_mode": {
    "name": "ipython",
    "version": 3
   },
   "file_extension": ".py",
   "mimetype": "text/x-python",
   "name": "python",
   "nbconvert_exporter": "python",
   "pygments_lexer": "ipython3",
   "version": "3.10.9"
  },
  "orig_nbformat": 4
 },
 "nbformat": 4,
 "nbformat_minor": 2
}
